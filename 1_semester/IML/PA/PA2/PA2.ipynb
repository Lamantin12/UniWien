{
 "cells": [
  {
   "cell_type": "markdown",
   "metadata": {},
   "source": [
    "# PA 2\n",
    "## Author: Khodosevich Leonid\n",
    "\n",
    "***at first PA I got -2 points for comments, this time I tried to comment all untrivial moments***"
   ]
  },
  {
   "cell_type": "markdown",
   "metadata": {},
   "source": [
    "# Task 1: Kernelized SVM"
   ]
  },
  {
   "cell_type": "markdown",
   "metadata": {},
   "source": [
    "In this task you will work with the “digits” data set [4]. Load the training and testing  \n",
    "data (sklearn.datasets.load_digits). Split the dataset to use 70 % of the data for  \n",
    "training and 30 % of the data for testing. Use an SVM (sklearn.svm.SVC) for classification. For evaluation, we will consider the accuracy (sklearn.metrics.accuracy_score)  \n",
    "and confusion matrices (to be implemented by you).  "
   ]
  },
  {
   "cell_type": "code",
   "execution_count": 1,
   "metadata": {},
   "outputs": [],
   "source": [
    "import warnings\n",
    "import numpy as np\n",
    "import pandas as pd\n",
    "import matplotlib.pyplot as plt\n",
    "import seaborn as sns\n",
    "from tqdm import tqdm\n",
    "from sklearn import datasets\n",
    "from sklearn.metrics import accuracy_score\n",
    "from sklearn.metrics.pairwise import euclidean_distances\n",
    "from sklearn.model_selection import GridSearchCV, train_test_split, cross_val_score\n",
    "from sklearn.svm import SVC, LinearSVC\n",
    "from sklearn.preprocessing import MinMaxScaler\n",
    "\n",
    "warnings.filterwarnings(\"ignore\")\n",
    "\n",
    "\n",
    "# setting seed for replicability\n",
    "SEED = 42\n",
    "np.random.seed(SEED)"
   ]
  },
  {
   "cell_type": "markdown",
   "metadata": {},
   "source": [
    "## Subtask 1: SVMs With Different Kernels"
   ]
  },
  {
   "cell_type": "markdown",
   "metadata": {},
   "source": [
    "(10 points)  \n",
    "Evaluate a support vector machine (using default parameters except for the kernel) on the dataset,   \n",
    "using different kernels (linear, poly, rbf, sigmoid).  \n",
    "Select good hyperparam- eters for the kernels using model selection techniques.  \n",
    "- Report the classification accuracies on the training and test set and how much model   \n",
    "selection improved performance. Also report your hyperparameters and how you selected them.  \n"
   ]
  },
  {
   "cell_type": "code",
   "execution_count": 2,
   "metadata": {},
   "outputs": [
    {
     "name": "stdout",
     "output_type": "stream",
     "text": [
      "X_train shape: (1257, 64)\n",
      "y_train shape: (1257,)\n",
      "X_test shape: (540, 64)\n",
      "y_test shape: (540,)\n"
     ]
    }
   ],
   "source": [
    "# data loading and splitting\n",
    "df = datasets.load_digits()\n",
    "X = df.data\n",
    "y = df.target\n",
    "X_train, X_test, y_train, y_test = train_test_split(X, y, test_size=0.3, random_state=SEED)\n",
    "print(f'X_train shape: {X_train.shape}')\n",
    "print(f'y_train shape: {y_train.shape}')\n",
    "print(f'X_test shape: {X_test.shape}')\n",
    "print(f'y_test shape: {y_test.shape}')"
   ]
  },
  {
   "cell_type": "code",
   "execution_count": 3,
   "metadata": {},
   "outputs": [
    {
     "data": {
      "image/png": "[encoded data removed]",
      "text/plain": [
       "<Figure size 1000x1000 with 9 Axes>"
      ]
     },
     "metadata": {},
     "output_type": "display_data"
    }
   ],
   "source": [
    "# plot data. Dont really need to do this here, but I believe its nice thing to do in any case\n",
    "fig, axs = plt.subplots(1, 9, figsize=(10, 10))\n",
    "for i, ax in enumerate(axs):\n",
    "    ax.imshow(X_train[i].reshape(8, 8))\n",
    "    ax.set_title(f'Label: {y_train[i]}')\n",
    "    ax.axis('off')\n",
    "plt.show()"
   ]
  },
  {
   "cell_type": "code",
   "execution_count": 4,
   "metadata": {},
   "outputs": [
    {
     "name": "stdout",
     "output_type": "stream",
     "text": [
      "Model with kernel linear has train accuracy of 100.00%\n",
      "Model with kernel linear has test accuracy of 97.96%\n",
      "\n",
      "Model with kernel poly has train accuracy of 99.92%\n",
      "Model with kernel poly has test accuracy of 98.89%\n",
      "\n",
      "Model with kernel rbf has train accuracy of 99.68%\n",
      "Model with kernel rbf has test accuracy of 98.70%\n",
      "\n",
      "Model with kernel sigmoid has train accuracy of 91.96%\n",
      "Model with kernel sigmoid has test accuracy of 90.74%\n",
      "\n",
      "best accuracy is 98.89% for kernel poly\n"
     ]
    }
   ],
   "source": [
    "# Task: Evaluate a support vector machine (using default parameters except for the kernel) \n",
    "# on the dataset, using different kernels (linear, poly, rbf, sigmoid).\n",
    "kernel_names = ['linear', 'poly', 'rbf', 'sigmoid']\n",
    "result_accuracy_test = []  \n",
    "for ker in kernel_names:\n",
    "    svm = SVC(kernel=ker, random_state=SEED)\n",
    "    svm.fit(X_train, y_train)\n",
    "    y_pred_train = svm.predict(X_train)\n",
    "    y_pred_test = svm.predict(X_test)\n",
    "    result_accuracy_test.append(accuracy_score(y_test, y_pred_test))\n",
    "    print(\n",
    "        f\"Model with kernel {ker} has train accuracy of {accuracy_score(y_train, y_pred_train):.2%}\"\n",
    "        )\n",
    "    print(\n",
    "        f\"Model with kernel {ker} has test accuracy of {accuracy_score(y_test, y_pred_test):.2%}\\n\"\n",
    "        )\n",
    "best_accuracy_idx = np.argmax(result_accuracy_test)\n",
    "best_accuracy = result_accuracy_test[best_accuracy_idx]\n",
    "kernel_name = kernel_names[best_accuracy_idx]\n",
    "print(f\"best accuracy is {best_accuracy:.2%} for kernel {kernel_name}\")"
   ]
  },
  {
   "cell_type": "code",
   "execution_count": 5,
   "metadata": {},
   "outputs": [
    {
     "name": "stdout",
     "output_type": "stream",
     "text": [
      "Fitting 5 folds for each of 1728 candidates, totalling 8640 fits\n"
     ]
    },
    {
     "name": "stdout",
     "output_type": "stream",
     "text": [
      "Best svm parameters: {'C': 8, 'degree': 3, 'gamma': 0.001, 'kernel': 'rbf', 'tol': 0.1} with CV score 99.21%\n",
      "Best model train accuracy of 100.00%\n",
      "Best with kernel sigmoid has test accuracy of 99.07%\n",
      "\n",
      "accuracy improved by 0.19%\n"
     ]
    }
   ],
   "source": [
    "# Task: Select good hyperparameters for the kernels using model selection techniques.  \n",
    "# Report the classification accuracies on the training and test set and how much model   \n",
    "# selection improved performance. Also report your hyperparameters and how you selected them.  \n",
    "\n",
    "# classifier's best parameters will be chosen with grid search cross validation\n",
    "# Idea is thakt we have grid of parameters and function produces cross validation score \n",
    "# for each parameter combination therefore obtaining best parameters\n",
    "parameters = {\n",
    "    'kernel': ('linear', 'poly', 'rbf', 'sigmoid'), # kernel type\n",
    "    'gamma': [\"scale\", 1e-4, 1e-5, 1e-3], # in sklearn doc changing to 1e-3 improve accuracy\n",
    "    \"tol\": [1e-1, 1e-2, 1e-3], # tolerance for stopping criterion\n",
    "    'degree': [3, 4, 5, 6, 7, 9], # for poly kernel, other will ignore it\n",
    "    'C': [1, 8, 9, 10, 11, 12] # regularization parameter\n",
    "    }\n",
    "\n",
    "# now we find best classifier\n",
    "svm = SVC(random_state=SEED)\n",
    "gs = GridSearchCV(\n",
    "    svm, parameters, cv=5, n_jobs=-1, verbose=1, scoring='accuracy'\n",
    "    )\n",
    "gs.fit(X_train, y_train)\n",
    "GS_estimator = gs.best_estimator_\n",
    "y_pred_train = GS_estimator.predict(X_train)\n",
    "y_pred_test = GS_estimator.predict(X_test)\n",
    "# reporting everything specified in task\n",
    "print(f\"Best svm parameters: {gs.best_params_} with CV score {gs.best_score_:.2%}\")\n",
    "print(\n",
    "    f\"Best model train accuracy of {accuracy_score(y_train, y_pred_train):.2%}\"\n",
    "    )\n",
    "print(\n",
    "    f\"Best with kernel {ker} has test accuracy of {accuracy_score(y_test, y_pred_test):.2%}\\n\"\n",
    "    )\n",
    "print(f\"accuracy improved by {accuracy_score(y_test, y_pred_test) - best_accuracy:.2%}\")\n",
    "grid_search_best_result = accuracy_score(y_test, y_pred_test)"
   ]
  },
  {
   "cell_type": "markdown",
   "metadata": {},
   "source": [
    "## Subtask 2: Develop Your Own Kernel\n",
    "(20 points)  \n",
    "Develop a custom kernel that achieves higher accuracy as compared to your results from the previous subtask (see [1]) for an example of how to do this).  \n",
    "- Describe your kernel and the idea behind your kernel.  \n",
    "- Proof/argue that you actually implemented a valid kernel.  \n",
    "- If you fail to achieve higher accuracy, describe what you tried/thought about.  \n",
    "Hint: familiarize yourself with the classification task; in particular, the meaning of the features."
   ]
  },
  {
   "cell_type": "code",
   "execution_count": 6,
   "metadata": {},
   "outputs": [],
   "source": [
    "# here will be all kernels that I tried\n",
    "# taken from sklearn documentation\n",
    "def custom_kernel(X, Y):\n",
    "    return X @ Y.T\n",
    "\n",
    "# we have images so we have to somrhow find a kernel that would devide them all \n",
    "# Idea: use a kernel that would give more weight to the center of the image -> gaussian kernel\n",
    "# but instead of just gaussian kernel we will use a gaussian kernel with a weight \n",
    "# on the center of the image\n",
    "# \n",
    "# motivation on this and some theoretical background could be found here:\n",
    "# https://core.ac.uk/download/pdf/190973863.pdf\n",
    "def build_custom_kernel(center_weight, gamma, central_range): \n",
    "    # have to put params to kernel function, solution was here:\n",
    "    # https://datascience.stackexchange.com/questions/22416/passing-a-custom-\n",
    "    # kernel-with-more-than-two-arguments-into-svm-svc-in-scikit-le\n",
    "    def custom_kernel(X, Y):\n",
    "        weights = np.ones(X.shape[1])\n",
    "        center_index = X.shape[1] // 2\n",
    "        weights[center_index-central_range:center_index+central_range] = center_weight \n",
    "        P = np.diag(weights)\n",
    "        distances = euclidean_distances(X @ P, Y @ P)\n",
    "        return np.exp(-gamma * distances ** 2)\n",
    "\n",
    "    return custom_kernel\n",
    "\n",
    "# we create an instance of SVM and fit out data.\n",
    "# I will only change center weight as different gammas were bad before\n",
    "cr_list = []\n",
    "cw_list = []\n",
    "test_res = []\n",
    "for central_range in np.arange(1, 10, 1):\n",
    "    for center_weight in np.arange(1, 2, 0.1):\n",
    "        # building model and predictiong for train and test\n",
    "        custom_kernel_svm = SVC(\n",
    "            kernel=build_custom_kernel(\n",
    "                center_weight=center_weight, gamma=1e-3, central_range=central_range\n",
    "            ), \n",
    "            random_state=SEED, \n",
    "            C=1\n",
    "            )\n",
    "        custom_kernel_svm.fit(X_train, y_train)\n",
    "        y_pred_train = custom_kernel_svm.predict(X_train)\n",
    "        y_pred_test = custom_kernel_svm.predict(X_test)\n",
    "        # saving results for DataFrame, as its easier to look at\n",
    "        cr_list.append(central_range)\n",
    "        cw_list.append(center_weight)\n",
    "        test_res.append(accuracy_score(y_test, y_pred_test))\n",
    "res = pd.DataFrame(\n",
    "    {\n",
    "        'center_range': cr_list,\n",
    "        'center_weight': cw_list,\n",
    "        'test_accuracy': test_res\n",
    "    }\n",
    ")"
   ]
  },
  {
   "cell_type": "code",
   "execution_count": 7,
   "metadata": {},
   "outputs": [
    {
     "data": {
      "text/html": [
       "<div>\n",
       "<style scoped>\n",
       "    .dataframe tbody tr th:only-of-type {\n",
       "        vertical-align: middle;\n",
       "    }\n",
       "\n",
       "    .dataframe tbody tr th {\n",
       "        vertical-align: top;\n",
       "    }\n",
       "\n",
       "    .dataframe thead th {\n",
       "        text-align: right;\n",
       "    }\n",
       "</style>\n",
       "<table border=\"1\" class=\"dataframe\">\n",
       "  <thead>\n",
       "    <tr style=\"text-align: right;\">\n",
       "      <th></th>\n",
       "      <th>center_range</th>\n",
       "      <th>center_weight</th>\n",
       "      <th>test_accuracy</th>\n",
       "    </tr>\n",
       "  </thead>\n",
       "  <tbody>\n",
       "    <tr>\n",
       "      <th>43</th>\n",
       "      <td>5</td>\n",
       "      <td>1.3</td>\n",
       "      <td>0.992593</td>\n",
       "    </tr>\n",
       "    <tr>\n",
       "      <th>44</th>\n",
       "      <td>5</td>\n",
       "      <td>1.4</td>\n",
       "      <td>0.992593</td>\n",
       "    </tr>\n",
       "  </tbody>\n",
       "</table>\n",
       "</div>"
      ],
      "text/plain": [
       "    center_range  center_weight  test_accuracy\n",
       "43             5            1.3       0.992593\n",
       "44             5            1.4       0.992593"
      ]
     },
     "execution_count": 7,
     "metadata": {},
     "output_type": "execute_result"
    }
   ],
   "source": [
    "# selecting all rows where we've achieved better result than the grid \n",
    "# search one and selecting best params\n",
    "best_custom_kernel_model_params = list((\n",
    "    res\n",
    "    .query(\"test_accuracy > @grid_search_best_result\")\n",
    "    .iloc[0][[\"center_range\", \"center_weight\"]]\n",
    "))\n",
    "res.query(\"test_accuracy > @grid_search_best_result\")"
   ]
  },
  {
   "cell_type": "code",
   "execution_count": 8,
   "metadata": {},
   "outputs": [
    {
     "name": "stdout",
     "output_type": "stream",
     "text": [
      "best result: 99.26% which is 0.19% better than GSCV\n"
     ]
    }
   ],
   "source": [
    "# finding how much % we won from customizing kernel\n",
    "print(f\"best result: {res.test_accuracy.max():.2%} \"\\\n",
    "    + f\"which is {res.test_accuracy.max() - grid_search_best_result:.2%} better than GSCV\")"
   ]
  },
  {
   "cell_type": "markdown",
   "metadata": {},
   "source": [
    "- as we can see, central weight 1.3 and 1.4 with central range 5 slightly improves the results to 99.26%, which is 0.19% better than the grid search result."
   ]
  },
  {
   "cell_type": "markdown",
   "metadata": {},
   "source": [
    "## Subtask 3: Classifier Evaluation I\n",
    "(10 points)  \n",
    "Evaluate the best classifiers from the previous two tasks in more detail (the best SVM with a kernel available in scikit-learn and the SVM with   your own kernel). In particular, implement a function to compute and print the confusion matrix for the classifiers.  \n",
    "Don’t use scikit’s functions for this purpose but rather implement this functionality yourself.  \n",
    "- Report your obtained confusion matrix.\n",
    "- Do you see any structure in the confusion matrix? If so, report what you observe. If\n",
    "not, state so.\n",
    "- Compute the classification accuracies of the classifiers from the confusion matrix. Report your computation and result."
   ]
  },
  {
   "cell_type": "code",
   "execution_count": 9,
   "metadata": {},
   "outputs": [
    {
     "data": {
      "image/png": "[encoded data removed]",
      "text/plain": [
       "<Figure size 2000x500 with 6 Axes>"
      ]
     },
     "metadata": {},
     "output_type": "display_data"
    }
   ],
   "source": [
    "# In particular, implement a function to compute and print the confusion matrix for the classifiers.  \n",
    "# Don’t use scikit’s functions for this purpose but rather implement this functionality yourself.  \n",
    "# In order to better understand the confusion matrix, I visualize it with heatmap from seaborn.\n",
    "\n",
    "# Idea of realization: pd.crosstab computes frequency of \n",
    "# appearence of each pair of values in two arrays, \n",
    "# which is exactly what we need from confusion matrix.\n",
    "\n",
    "\n",
    "def make_confision_matrix(y_true, y_pred):\n",
    "    return pd.crosstab(y_true, y_pred)\n",
    "\n",
    "# retrain model with best params\n",
    "center_weight = best_custom_kernel_model_params[1]\n",
    "central_range = int(best_custom_kernel_model_params[0])\n",
    "\n",
    "custom_kernel_svm = SVC(\n",
    "    kernel=build_custom_kernel(\n",
    "        center_weight=center_weight, gamma=1e-3, central_range=central_range\n",
    "    ), \n",
    "    random_state=SEED, \n",
    "    C=1\n",
    ")\n",
    "custom_kernel_svm.fit(X_train, y_train)\n",
    "\n",
    "cm_GS_estimator = make_confision_matrix(y_test, GS_estimator.predict(X_test))\n",
    "cm_custom_estimator = make_confision_matrix(y_test, custom_kernel_svm.predict(X_test))\n",
    "\n",
    "fig, ax = plt.subplots(1, 3, figsize=(20, 5))\n",
    "sns.heatmap(\n",
    "    cm_GS_estimator, \n",
    "    annot=True, fmt='d', cmap='Blues', ax=ax[0]\n",
    "    )\n",
    "ax[0].set_title('Confusion matrix of GS CV SVM')\n",
    "ax[0].set_xlabel('Predicted')\n",
    "ax[0].set_ylabel('Actual')\n",
    "sns.heatmap(\n",
    "    cm_custom_estimator, \n",
    "    annot=True, fmt='d', cmap='Blues', ax=ax[1]\n",
    "    )\n",
    "ax[1].set_title('Confusion matrix of custom kernel SVM')\n",
    "ax[1].set_xlabel('Predicted')\n",
    "ax[1].set_ylabel('Actual')\n",
    "\n",
    "sns.heatmap(\n",
    "    cm_GS_estimator - cm_custom_estimator,\n",
    "    annot=True, fmt='d', cmap='Blues', ax=ax[2]\n",
    "    )\n",
    "ax[2].set_title('Difference matrix (GS - custom)')\n",
    "ax[2].set_xlabel('Predicted')\n",
    "ax[2].set_ylabel('Actual')\n",
    "plt.show()"
   ]
  },
  {
   "cell_type": "markdown",
   "metadata": {},
   "source": [
    "- We can see, that the most confusing digit for model is 3, model confuses it with 2, 5 for GS and 8 for custom kernel model. Probably this is because some 3's and 8's in this dataset are written the way that they are really similar.\n",
    "- After applying custom kernel, model predicted one more 3 right, which made accuracy go up."
   ]
  },
  {
   "cell_type": "code",
   "execution_count": 10,
   "metadata": {},
   "outputs": [
    {
     "name": "stdout",
     "output_type": "stream",
     "text": [
      "accuracy of GC model: 99.07%\n",
      "accuracy of custom model: 99.26%\n",
      "Per class accuracy of GC model:\n",
      "row_0\n",
      "0    1.000\n",
      "1    1.000\n",
      "2    1.000\n",
      "3    0.963\n",
      "4    1.000\n",
      "5    1.000\n",
      "6    1.000\n",
      "7    0.982\n",
      "8    1.000\n",
      "9    0.966\n",
      "dtype: float64\n",
      "Per class accuracy of custom model:\n",
      "row_0\n",
      "0    1.000\n",
      "1    1.000\n",
      "2    1.000\n",
      "3    0.981\n",
      "4    1.000\n",
      "5    1.000\n",
      "6    1.000\n",
      "7    0.982\n",
      "8    1.000\n",
      "9    0.966\n",
      "dtype: float64\n"
     ]
    }
   ],
   "source": [
    "# I dont know what is ment by \"accuracy\" in the task, \n",
    "# so I will compute accuracy as the ratio of correct predictions to the total number of predictions.\n",
    "# As well as accuracies of each class.\n",
    "\n",
    "def compute_accuracy_from_cm(cm):\n",
    "    return np.trace(cm) / np.concat(cm_GS_estimator).sum()\n",
    "\n",
    "def comute_per_class_accuracy(cm):\n",
    "    res = pd.Series(np.diag(cm) / cm_GS_estimator.sum(axis=1))\n",
    "    res.index = cm_GS_estimator.index\n",
    "    res = res.round(3)\n",
    "    return res\n",
    "\n",
    "print(f\"accuracy of GC model: {compute_accuracy_from_cm(cm_GS_estimator):.2%}\")\n",
    "print(f\"accuracy of custom model: {compute_accuracy_from_cm(cm_custom_estimator):.2%}\")\n",
    "\n",
    "print(f\"Per class accuracy of GC model:\\n{comute_per_class_accuracy(cm_GS_estimator)}\")\n",
    "print(f\"Per class accuracy of custom model:\\n{comute_per_class_accuracy(cm_custom_estimator)}\")"
   ]
  },
  {
   "cell_type": "markdown",
   "metadata": {},
   "source": [
    "- Again, we can see, that accuracy grew up in third class. "
   ]
  },
  {
   "cell_type": "markdown",
   "metadata": {},
   "source": [
    "# Task 2: Feature Selection\n",
    "\n",
    "In this task you will use the breast cancer dataset [3].   \n",
    "Load the data and normalize it using the MinMaxScaler.   \n",
    "Split the data into 70% training data and 30% test data (shuffle the data beforehand!).   \n",
    "As the classification model use the sklearn.svm.LinearSVC with the default parameters.  "
   ]
  },
  {
   "cell_type": "code",
   "execution_count": 11,
   "metadata": {},
   "outputs": [
    {
     "name": "stdout",
     "output_type": "stream",
     "text": [
      "Train set: (398, 30)\n",
      "Test set: (171, 30)\n"
     ]
    }
   ],
   "source": [
    "# loading data for task\n",
    "# setting shuffle=True to do shuffle from task\n",
    "df = datasets.load_breast_cancer()\n",
    "X = df.data\n",
    "y = df.target\n",
    "names = df.feature_names\n",
    "X_train, X_test, y_train, y_test = train_test_split(\n",
    "    X, y, test_size=0.3, random_state=SEED, shuffle=True\n",
    "    )\n",
    "scaler = MinMaxScaler().fit(X_train)\n",
    "X_train = scaler.transform(X_train)\n",
    "X_test = scaler.transform(X_test)\n",
    "\n",
    "print(f\"Train set: {X_train.shape}\")\n",
    "print(f\"Test set: {X_test.shape}\")"
   ]
  },
  {
   "cell_type": "markdown",
   "metadata": {},
   "source": [
    "## Subtask 1: Forward Greedy Feature Selection\n",
    "Implement forward greedy feature selection wrt the 10-fold cross-validation performance.\n",
    "- Report the order of the features (including their names) for forward greedy feature selection. Also record and report the performance of models for each of the number of features.  \n",
    "\n",
    "\n",
    "\n",
    "Algo:  \n",
    "  \n",
    "\n",
    "- Start with $S=\\emptyset$ and $E_0=\\infty$\n",
    "- For $i=1,2, \\ldots, d$ :\n",
    "- find best element to add: $s_i=\\operatorname{argmin}_{j \\in \\mathcal{V} \\backslash S} \\hat{L}(S \\cup\\{j\\})$\n",
    "- compute error: $E_i=\\hat{L}\\left(S \\cup\\left\\{s_i\\right\\}\\right)$\n",
    "- If $E_i>E_{i-1}$ break, else set $S \\leftarrow S \\cup\\left\\{s_i\\right\\}$\n",
    "\n",
    "  \n",
    "**!!! In this excercise, as no specific loss function was given, I will use default metric of cross_val_score (accuracy)**\n"
   ]
  },
  {
   "cell_type": "code",
   "execution_count": 12,
   "metadata": {},
   "outputs": [],
   "source": [
    "# There is not much to explain here, I just implemented steps, specified in algorithm\n",
    "# The only difference is that algo uses loss function, which should decrease with adding new feature\n",
    "# But in this case, I use accuracy, which should increase -> break condition is changed\n",
    "\n",
    "def finding_smallest_each_step_fw(model, X_train, y_train, S, log_step):\n",
    "    \"\"\"Does s_i = argmin L(S+{j}) step by adding one of features, counting score and returning best\n",
    "    \"\"\"\n",
    "    max_val_score = -np.inf\n",
    "    S_upd_best = S.copy()\n",
    "    for j in range(X_train.shape[1]):\n",
    "        if  j in S:\n",
    "            continue\n",
    "        S_upd = S + [j]\n",
    "        X_train_upd = X_train[:, S_upd]\n",
    "        score = cross_val_score(model, X_train_upd, y_train, cv=10).mean()\n",
    "        if log_step:\n",
    "            print(f\"step {j} score {score}, S {S_upd}\")\n",
    "        if score > max_val_score:\n",
    "            max_val_score = score\n",
    "            S_upd_best = S_upd\n",
    "    return S_upd_best, max_val_score\n",
    "\n",
    "\n",
    "def forward_greedy_feature_selection(model, X_train, y_train, max_features=None, log_step=False):\n",
    "    \"\"\"Perform forward greedy feature selection with algorythm described in lecture\n",
    "    \"\"\"\n",
    "    S = []\n",
    "    best_achieved_score = -np.inf\n",
    "    logs = {\"added\": [], \"features\": [], \"score\": []}\n",
    "    for i in tqdm(range(X_train.shape[1])):\n",
    "        if (max_features is not None) and (len(S) >= max_features):\n",
    "            print(\"REached max features\")\n",
    "            break\n",
    "        # find best feature set for step\n",
    "        S_upd_best, max_val_score = finding_smallest_each_step_fw(\n",
    "            model, X_train, y_train, S, log_step\n",
    "            )\n",
    "        # if improved -> next step, else break\n",
    "        if max_val_score > best_achieved_score:\n",
    "            logs[\"added\"].append([el for el in S_upd_best if el not in S][0])\n",
    "            logs[\"features\"].append(S_upd_best)\n",
    "            logs[\"score\"].append(max_val_score)\n",
    "            S = S_upd_best\n",
    "            best_achieved_score = max_val_score\n",
    "        else:\n",
    "            break\n",
    "    return S, best_achieved_score, logs\n",
    "\n",
    "def get_names(S):\n",
    "    return [str(names[i]) for i in S]"
   ]
  },
  {
   "cell_type": "code",
   "execution_count": 13,
   "metadata": {},
   "outputs": [
    {
     "name": "stderr",
     "output_type": "stream",
     "text": [
      " 17%|█▋        | 5/30 [00:00<00:03,  6.70it/s]\n"
     ]
    }
   ],
   "source": [
    "model = LinearSVC()\n",
    "S, best_achieved_score, logs = forward_greedy_feature_selection(model, X_train, y_train)"
   ]
  },
  {
   "cell_type": "code",
   "execution_count": 14,
   "metadata": {},
   "outputs": [
    {
     "name": "stdout",
     "output_type": "stream",
     "text": [
      "final set of features: [7, 21, 20, 26, 11]\n",
      "final set of features: ['mean concave points', 'worst texture', 'worst radius', 'worst concavity', 'texture error']\n",
      "Achieved accuracy with that set: 97.48%\n",
      "DataFrame of seature selection:\n"
     ]
    },
    {
     "data": {
      "text/html": [
       "<div>\n",
       "<style scoped>\n",
       "    .dataframe tbody tr th:only-of-type {\n",
       "        vertical-align: middle;\n",
       "    }\n",
       "\n",
       "    .dataframe tbody tr th {\n",
       "        vertical-align: top;\n",
       "    }\n",
       "\n",
       "    .dataframe thead th {\n",
       "        text-align: right;\n",
       "    }\n",
       "</style>\n",
       "<table border=\"1\" class=\"dataframe\">\n",
       "  <thead>\n",
       "    <tr style=\"text-align: right;\">\n",
       "      <th></th>\n",
       "      <th>added</th>\n",
       "      <th>features</th>\n",
       "      <th>score</th>\n",
       "    </tr>\n",
       "  </thead>\n",
       "  <tbody>\n",
       "    <tr>\n",
       "      <th>0</th>\n",
       "      <td>7</td>\n",
       "      <td>[7]</td>\n",
       "      <td>0.907115</td>\n",
       "    </tr>\n",
       "    <tr>\n",
       "      <th>1</th>\n",
       "      <td>21</td>\n",
       "      <td>[7, 21]</td>\n",
       "      <td>0.937244</td>\n",
       "    </tr>\n",
       "    <tr>\n",
       "      <th>2</th>\n",
       "      <td>20</td>\n",
       "      <td>[7, 21, 20]</td>\n",
       "      <td>0.964808</td>\n",
       "    </tr>\n",
       "    <tr>\n",
       "      <th>3</th>\n",
       "      <td>26</td>\n",
       "      <td>[7, 21, 20, 26]</td>\n",
       "      <td>0.969744</td>\n",
       "    </tr>\n",
       "    <tr>\n",
       "      <th>4</th>\n",
       "      <td>11</td>\n",
       "      <td>[7, 21, 20, 26, 11]</td>\n",
       "      <td>0.974808</td>\n",
       "    </tr>\n",
       "  </tbody>\n",
       "</table>\n",
       "</div>"
      ],
      "text/plain": [
       "   added             features     score\n",
       "0      7                  [7]  0.907115\n",
       "1     21              [7, 21]  0.937244\n",
       "2     20          [7, 21, 20]  0.964808\n",
       "3     26      [7, 21, 20, 26]  0.969744\n",
       "4     11  [7, 21, 20, 26, 11]  0.974808"
      ]
     },
     "execution_count": 14,
     "metadata": {},
     "output_type": "execute_result"
    }
   ],
   "source": [
    "print(f\"final set of features: {S}\")\n",
    "print(f\"final set of features: {get_names(S)}\")\n",
    "print(f\"Achieved accuracy with that set: {best_achieved_score:.2%}\")\n",
    "print(f\"DataFrame of seature selection:\")\n",
    "pd.DataFrame(logs)"
   ]
  },
  {
   "cell_type": "markdown",
   "metadata": {},
   "source": [
    "## Subtask 2: Backward Greedy Feature Selection\n",
    "(11 points)  \n",
    "- Report the order of the features (including their names) for backward greedy feature selection. Also record and report the performance of models for each of the number of features."
   ]
  },
  {
   "cell_type": "code",
   "execution_count": 15,
   "metadata": {},
   "outputs": [],
   "source": [
    "# There is not much to explain here, I just implemented steps, specified in algorithm\n",
    "# The only difference is that algo uses loss function, \n",
    "# which should decrease with removing new feature\n",
    "# But in this case, I use accuracy, which should increase -> break condition is changed\n",
    "\n",
    "def finding_smallest_each_step_bw(model, X_train, y_train, S, log_step):\n",
    "    \"\"\"Does s_i = argmin L(S\\{j}) step, by removing each feature from S, \n",
    "    computing score and returning best one\n",
    "    \"\"\"\n",
    "    max_val_score = -np.inf\n",
    "    S_upd_best = S.copy()\n",
    "    for j in S:\n",
    "        S_upd = [el for el in S if el != j]\n",
    "        X_train_upd = X_train[:, S_upd]\n",
    "        score = cross_val_score(model, X_train_upd, y_train, cv=10).mean()\n",
    "        if log_step:\n",
    "            print(f\"Step {j}: {score}, S_upd: {S_upd}\")\n",
    "        if score > max_val_score:\n",
    "            max_val_score = score\n",
    "            S_upd_best = S_upd\n",
    "    return S_upd_best, max_val_score\n",
    "\n",
    "\n",
    "def backward_greedy_feature_selection(model, X_train, y_train, max_features=None, log_step=False):\n",
    "    \"\"\"Perform backward greedy feature selection with algorythm described in lecture\n",
    "    \"\"\"\n",
    "    S = list(range(X_train.shape[1]))\n",
    "    best_achieved_score = -np.inf\n",
    "    logs = {\"dropped\": [], \"features\": [], \"score\": []}\n",
    "    for i in tqdm(range(X_train.shape[1])):\n",
    "        # find best feature set for step\n",
    "        S_upd_best, max_val_score = finding_smallest_each_step_bw(\n",
    "            model, X_train, y_train, S, log_step\n",
    "            )\n",
    "        # if we havent reached max features, or score is better than best achieved -> next step\n",
    "        # else -> break\n",
    "        if ((max_features is not None) and (len(S) > max_features)) \\\n",
    "            or (max_val_score >= best_achieved_score):\n",
    "            logs[\"dropped\"].append([el for el in S if el not in S_upd_best][0])\n",
    "            logs[\"features\"].append(S_upd_best)\n",
    "            logs[\"score\"].append(max_val_score)\n",
    "            S = S_upd_best\n",
    "            best_achieved_score = max_val_score\n",
    "        else:\n",
    "            break\n",
    "    return S, best_achieved_score, logs"
   ]
  },
  {
   "cell_type": "code",
   "execution_count": 16,
   "metadata": {},
   "outputs": [
    {
     "name": "stderr",
     "output_type": "stream",
     "text": [
      " 60%|██████    | 18/30 [00:02<00:01,  7.79it/s]\n"
     ]
    }
   ],
   "source": [
    "model = LinearSVC()\n",
    "S, best_achieved_score, logs = backward_greedy_feature_selection(model, X_train, y_train)"
   ]
  },
  {
   "cell_type": "code",
   "execution_count": 17,
   "metadata": {},
   "outputs": [
    {
     "name": "stdout",
     "output_type": "stream",
     "text": [
      "final set of features: [1, 7, 19, 20, 22, 23, 24, 25, 26, 27, 28, 29]\n",
      "final set of features: ['mean texture', 'mean concave points', 'fractal dimension error', 'worst radius', 'worst perimeter', 'worst area', 'worst smoothness', 'worst compactness', 'worst concavity', 'worst concave points', 'worst symmetry', 'worst fractal dimension']\n",
      "Achieved accuracy with that set: 98.00%\n",
      "DataFrame of seature selection:\n"
     ]
    },
    {
     "data": {
      "text/html": [
       "<div>\n",
       "<style scoped>\n",
       "    .dataframe tbody tr th:only-of-type {\n",
       "        vertical-align: middle;\n",
       "    }\n",
       "\n",
       "    .dataframe tbody tr th {\n",
       "        vertical-align: top;\n",
       "    }\n",
       "\n",
       "    .dataframe thead th {\n",
       "        text-align: right;\n",
       "    }\n",
       "</style>\n",
       "<table border=\"1\" class=\"dataframe\">\n",
       "  <thead>\n",
       "    <tr style=\"text-align: right;\">\n",
       "      <th></th>\n",
       "      <th>dropped</th>\n",
       "      <th>features</th>\n",
       "      <th>score</th>\n",
       "    </tr>\n",
       "  </thead>\n",
       "  <tbody>\n",
       "    <tr>\n",
       "      <th>0</th>\n",
       "      <td>18</td>\n",
       "      <td>[0, 1, 2, 3, 4, 5, 6, 7, 8, 9, 10, 11, 12, 13,...</td>\n",
       "      <td>0.977436</td>\n",
       "    </tr>\n",
       "    <tr>\n",
       "      <th>1</th>\n",
       "      <td>21</td>\n",
       "      <td>[0, 1, 2, 3, 4, 5, 6, 7, 8, 9, 10, 11, 12, 13,...</td>\n",
       "      <td>0.977500</td>\n",
       "    </tr>\n",
       "    <tr>\n",
       "      <th>2</th>\n",
       "      <td>5</td>\n",
       "      <td>[0, 1, 2, 3, 4, 6, 7, 8, 9, 10, 11, 12, 13, 14...</td>\n",
       "      <td>0.980000</td>\n",
       "    </tr>\n",
       "    <tr>\n",
       "      <th>3</th>\n",
       "      <td>0</td>\n",
       "      <td>[1, 2, 3, 4, 6, 7, 8, 9, 10, 11, 12, 13, 14, 1...</td>\n",
       "      <td>0.980000</td>\n",
       "    </tr>\n",
       "    <tr>\n",
       "      <th>4</th>\n",
       "      <td>2</td>\n",
       "      <td>[1, 3, 4, 6, 7, 8, 9, 10, 11, 12, 13, 14, 15, ...</td>\n",
       "      <td>0.980000</td>\n",
       "    </tr>\n",
       "    <tr>\n",
       "      <th>5</th>\n",
       "      <td>3</td>\n",
       "      <td>[1, 4, 6, 7, 8, 9, 10, 11, 12, 13, 14, 15, 16,...</td>\n",
       "      <td>0.980000</td>\n",
       "    </tr>\n",
       "    <tr>\n",
       "      <th>6</th>\n",
       "      <td>4</td>\n",
       "      <td>[1, 6, 7, 8, 9, 10, 11, 12, 13, 14, 15, 16, 17...</td>\n",
       "      <td>0.980000</td>\n",
       "    </tr>\n",
       "    <tr>\n",
       "      <th>7</th>\n",
       "      <td>6</td>\n",
       "      <td>[1, 7, 8, 9, 10, 11, 12, 13, 14, 15, 16, 17, 1...</td>\n",
       "      <td>0.980000</td>\n",
       "    </tr>\n",
       "    <tr>\n",
       "      <th>8</th>\n",
       "      <td>8</td>\n",
       "      <td>[1, 7, 9, 10, 11, 12, 13, 14, 15, 16, 17, 19, ...</td>\n",
       "      <td>0.980000</td>\n",
       "    </tr>\n",
       "    <tr>\n",
       "      <th>9</th>\n",
       "      <td>10</td>\n",
       "      <td>[1, 7, 9, 11, 12, 13, 14, 15, 16, 17, 19, 20, ...</td>\n",
       "      <td>0.980000</td>\n",
       "    </tr>\n",
       "    <tr>\n",
       "      <th>10</th>\n",
       "      <td>11</td>\n",
       "      <td>[1, 7, 9, 12, 13, 14, 15, 16, 17, 19, 20, 22, ...</td>\n",
       "      <td>0.980000</td>\n",
       "    </tr>\n",
       "    <tr>\n",
       "      <th>11</th>\n",
       "      <td>12</td>\n",
       "      <td>[1, 7, 9, 13, 14, 15, 16, 17, 19, 20, 22, 23, ...</td>\n",
       "      <td>0.980000</td>\n",
       "    </tr>\n",
       "    <tr>\n",
       "      <th>12</th>\n",
       "      <td>9</td>\n",
       "      <td>[1, 7, 13, 14, 15, 16, 17, 19, 20, 22, 23, 24,...</td>\n",
       "      <td>0.980000</td>\n",
       "    </tr>\n",
       "    <tr>\n",
       "      <th>13</th>\n",
       "      <td>14</td>\n",
       "      <td>[1, 7, 13, 15, 16, 17, 19, 20, 22, 23, 24, 25,...</td>\n",
       "      <td>0.980000</td>\n",
       "    </tr>\n",
       "    <tr>\n",
       "      <th>14</th>\n",
       "      <td>16</td>\n",
       "      <td>[1, 7, 13, 15, 17, 19, 20, 22, 23, 24, 25, 26,...</td>\n",
       "      <td>0.980000</td>\n",
       "    </tr>\n",
       "    <tr>\n",
       "      <th>15</th>\n",
       "      <td>17</td>\n",
       "      <td>[1, 7, 13, 15, 19, 20, 22, 23, 24, 25, 26, 27,...</td>\n",
       "      <td>0.980000</td>\n",
       "    </tr>\n",
       "    <tr>\n",
       "      <th>16</th>\n",
       "      <td>13</td>\n",
       "      <td>[1, 7, 15, 19, 20, 22, 23, 24, 25, 26, 27, 28,...</td>\n",
       "      <td>0.980000</td>\n",
       "    </tr>\n",
       "    <tr>\n",
       "      <th>17</th>\n",
       "      <td>15</td>\n",
       "      <td>[1, 7, 19, 20, 22, 23, 24, 25, 26, 27, 28, 29]</td>\n",
       "      <td>0.980000</td>\n",
       "    </tr>\n",
       "  </tbody>\n",
       "</table>\n",
       "</div>"
      ],
      "text/plain": [
       "    dropped                                           features     score\n",
       "0        18  [0, 1, 2, 3, 4, 5, 6, 7, 8, 9, 10, 11, 12, 13,...  0.977436\n",
       "1        21  [0, 1, 2, 3, 4, 5, 6, 7, 8, 9, 10, 11, 12, 13,...  0.977500\n",
       "2         5  [0, 1, 2, 3, 4, 6, 7, 8, 9, 10, 11, 12, 13, 14...  0.980000\n",
       "3         0  [1, 2, 3, 4, 6, 7, 8, 9, 10, 11, 12, 13, 14, 1...  0.980000\n",
       "4         2  [1, 3, 4, 6, 7, 8, 9, 10, 11, 12, 13, 14, 15, ...  0.980000\n",
       "5         3  [1, 4, 6, 7, 8, 9, 10, 11, 12, 13, 14, 15, 16,...  0.980000\n",
       "6         4  [1, 6, 7, 8, 9, 10, 11, 12, 13, 14, 15, 16, 17...  0.980000\n",
       "7         6  [1, 7, 8, 9, 10, 11, 12, 13, 14, 15, 16, 17, 1...  0.980000\n",
       "8         8  [1, 7, 9, 10, 11, 12, 13, 14, 15, 16, 17, 19, ...  0.980000\n",
       "9        10  [1, 7, 9, 11, 12, 13, 14, 15, 16, 17, 19, 20, ...  0.980000\n",
       "10       11  [1, 7, 9, 12, 13, 14, 15, 16, 17, 19, 20, 22, ...  0.980000\n",
       "11       12  [1, 7, 9, 13, 14, 15, 16, 17, 19, 20, 22, 23, ...  0.980000\n",
       "12        9  [1, 7, 13, 14, 15, 16, 17, 19, 20, 22, 23, 24,...  0.980000\n",
       "13       14  [1, 7, 13, 15, 16, 17, 19, 20, 22, 23, 24, 25,...  0.980000\n",
       "14       16  [1, 7, 13, 15, 17, 19, 20, 22, 23, 24, 25, 26,...  0.980000\n",
       "15       17  [1, 7, 13, 15, 19, 20, 22, 23, 24, 25, 26, 27,...  0.980000\n",
       "16       13  [1, 7, 15, 19, 20, 22, 23, 24, 25, 26, 27, 28,...  0.980000\n",
       "17       15     [1, 7, 19, 20, 22, 23, 24, 25, 26, 27, 28, 29]  0.980000"
      ]
     },
     "execution_count": 17,
     "metadata": {},
     "output_type": "execute_result"
    }
   ],
   "source": [
    "print(f\"final set of features: {S}\")\n",
    "print(f\"final set of features: {get_names(S)}\")\n",
    "print(f\"Achieved accuracy with that set: {best_achieved_score:.2%}\")\n",
    "print(f\"DataFrame of seature selection:\")\n",
    "pd.DataFrame(logs)"
   ]
  },
  {
   "cell_type": "markdown",
   "metadata": {},
   "source": [
    "# Subtask 3: Feature Importance\n",
    "(4 points)\n",
    "Assume that you are only allowed to use 6 out of the 30 features for classification. \n",
    "- Which features would you select using forward and backward feature selection? \n",
    "- Do the features differ and if so, why?"
   ]
  },
  {
   "cell_type": "markdown",
   "metadata": {},
   "source": [
    "---\n",
    "Answer:\n",
    "- In order to implement this restriction, for each function I added a  max_feature parameter.\n",
    "- For forward_selection it constraints number of selected features by breaking from loop when cap is met\n",
    "- For backwars_selection it continues loop even if score is dropping, which is implemented in if statement"
   ]
  },
  {
   "cell_type": "code",
   "execution_count": 18,
   "metadata": {},
   "outputs": [
    {
     "name": "stderr",
     "output_type": "stream",
     "text": [
      " 17%|█▋        | 5/30 [00:00<00:03,  6.99it/s]\n"
     ]
    }
   ],
   "source": [
    "model = LinearSVC()\n",
    "S, best_achieved_score, logs = forward_greedy_feature_selection(model, X_train, y_train, max_features=6)"
   ]
  },
  {
   "cell_type": "code",
   "execution_count": 19,
   "metadata": {},
   "outputs": [
    {
     "name": "stdout",
     "output_type": "stream",
     "text": [
      "final set of features: [7, 21, 20, 26, 11]\n",
      "final set of features: ['mean concave points', 'worst texture', 'worst radius', 'worst concavity', 'texture error']\n",
      "Achieved accuracy with that set: 97.48%\n",
      "DataFrame of seature selection:\n"
     ]
    },
    {
     "data": {
      "text/html": [
       "<div>\n",
       "<style scoped>\n",
       "    .dataframe tbody tr th:only-of-type {\n",
       "        vertical-align: middle;\n",
       "    }\n",
       "\n",
       "    .dataframe tbody tr th {\n",
       "        vertical-align: top;\n",
       "    }\n",
       "\n",
       "    .dataframe thead th {\n",
       "        text-align: right;\n",
       "    }\n",
       "</style>\n",
       "<table border=\"1\" class=\"dataframe\">\n",
       "  <thead>\n",
       "    <tr style=\"text-align: right;\">\n",
       "      <th></th>\n",
       "      <th>added</th>\n",
       "      <th>features</th>\n",
       "      <th>score</th>\n",
       "    </tr>\n",
       "  </thead>\n",
       "  <tbody>\n",
       "    <tr>\n",
       "      <th>0</th>\n",
       "      <td>7</td>\n",
       "      <td>[7]</td>\n",
       "      <td>0.907115</td>\n",
       "    </tr>\n",
       "    <tr>\n",
       "      <th>1</th>\n",
       "      <td>21</td>\n",
       "      <td>[7, 21]</td>\n",
       "      <td>0.937244</td>\n",
       "    </tr>\n",
       "    <tr>\n",
       "      <th>2</th>\n",
       "      <td>20</td>\n",
       "      <td>[7, 21, 20]</td>\n",
       "      <td>0.964808</td>\n",
       "    </tr>\n",
       "    <tr>\n",
       "      <th>3</th>\n",
       "      <td>26</td>\n",
       "      <td>[7, 21, 20, 26]</td>\n",
       "      <td>0.969744</td>\n",
       "    </tr>\n",
       "    <tr>\n",
       "      <th>4</th>\n",
       "      <td>11</td>\n",
       "      <td>[7, 21, 20, 26, 11]</td>\n",
       "      <td>0.974808</td>\n",
       "    </tr>\n",
       "  </tbody>\n",
       "</table>\n",
       "</div>"
      ],
      "text/plain": [
       "   added             features     score\n",
       "0      7                  [7]  0.907115\n",
       "1     21              [7, 21]  0.937244\n",
       "2     20          [7, 21, 20]  0.964808\n",
       "3     26      [7, 21, 20, 26]  0.969744\n",
       "4     11  [7, 21, 20, 26, 11]  0.974808"
      ]
     },
     "execution_count": 19,
     "metadata": {},
     "output_type": "execute_result"
    }
   ],
   "source": [
    "print(f\"final set of features: {S}\")\n",
    "print(f\"final set of features: {get_names(S)}\")\n",
    "print(f\"Achieved accuracy with that set: {best_achieved_score:.2%}\")\n",
    "print(f\"DataFrame of seature selection:\")\n",
    "pd.DataFrame(logs)"
   ]
  },
  {
   "cell_type": "code",
   "execution_count": 20,
   "metadata": {},
   "outputs": [
    {
     "name": "stderr",
     "output_type": "stream",
     "text": [
      " 80%|████████  | 24/30 [00:02<00:00,  9.42it/s]\n"
     ]
    }
   ],
   "source": [
    "model = LinearSVC()\n",
    "S, best_achieved_score, logs = backward_greedy_feature_selection(model, X_train, y_train, max_features=6)"
   ]
  },
  {
   "cell_type": "code",
   "execution_count": 21,
   "metadata": {},
   "outputs": [
    {
     "name": "stdout",
     "output_type": "stream",
     "text": [
      "final set of features: [1, 20, 24, 26, 27, 29]\n",
      "final set of features: ['mean texture', 'worst radius', 'worst smoothness', 'worst concavity', 'worst concave points', 'worst fractal dimension']\n",
      "Achieved accuracy with that set: 96.99%\n",
      "DataFrame of seature selection:\n"
     ]
    },
    {
     "data": {
      "text/html": [
       "<div>\n",
       "<style scoped>\n",
       "    .dataframe tbody tr th:only-of-type {\n",
       "        vertical-align: middle;\n",
       "    }\n",
       "\n",
       "    .dataframe tbody tr th {\n",
       "        vertical-align: top;\n",
       "    }\n",
       "\n",
       "    .dataframe thead th {\n",
       "        text-align: right;\n",
       "    }\n",
       "</style>\n",
       "<table border=\"1\" class=\"dataframe\">\n",
       "  <thead>\n",
       "    <tr style=\"text-align: right;\">\n",
       "      <th></th>\n",
       "      <th>dropped</th>\n",
       "      <th>features</th>\n",
       "      <th>score</th>\n",
       "    </tr>\n",
       "  </thead>\n",
       "  <tbody>\n",
       "    <tr>\n",
       "      <th>0</th>\n",
       "      <td>18</td>\n",
       "      <td>[0, 1, 2, 3, 4, 5, 6, 7, 8, 9, 10, 11, 12, 13,...</td>\n",
       "      <td>0.977436</td>\n",
       "    </tr>\n",
       "    <tr>\n",
       "      <th>1</th>\n",
       "      <td>21</td>\n",
       "      <td>[0, 1, 2, 3, 4, 5, 6, 7, 8, 9, 10, 11, 12, 13,...</td>\n",
       "      <td>0.977500</td>\n",
       "    </tr>\n",
       "    <tr>\n",
       "      <th>2</th>\n",
       "      <td>5</td>\n",
       "      <td>[0, 1, 2, 3, 4, 6, 7, 8, 9, 10, 11, 12, 13, 14...</td>\n",
       "      <td>0.980000</td>\n",
       "    </tr>\n",
       "    <tr>\n",
       "      <th>3</th>\n",
       "      <td>0</td>\n",
       "      <td>[1, 2, 3, 4, 6, 7, 8, 9, 10, 11, 12, 13, 14, 1...</td>\n",
       "      <td>0.980000</td>\n",
       "    </tr>\n",
       "    <tr>\n",
       "      <th>4</th>\n",
       "      <td>2</td>\n",
       "      <td>[1, 3, 4, 6, 7, 8, 9, 10, 11, 12, 13, 14, 15, ...</td>\n",
       "      <td>0.980000</td>\n",
       "    </tr>\n",
       "    <tr>\n",
       "      <th>5</th>\n",
       "      <td>3</td>\n",
       "      <td>[1, 4, 6, 7, 8, 9, 10, 11, 12, 13, 14, 15, 16,...</td>\n",
       "      <td>0.980000</td>\n",
       "    </tr>\n",
       "    <tr>\n",
       "      <th>6</th>\n",
       "      <td>4</td>\n",
       "      <td>[1, 6, 7, 8, 9, 10, 11, 12, 13, 14, 15, 16, 17...</td>\n",
       "      <td>0.980000</td>\n",
       "    </tr>\n",
       "    <tr>\n",
       "      <th>7</th>\n",
       "      <td>6</td>\n",
       "      <td>[1, 7, 8, 9, 10, 11, 12, 13, 14, 15, 16, 17, 1...</td>\n",
       "      <td>0.980000</td>\n",
       "    </tr>\n",
       "    <tr>\n",
       "      <th>8</th>\n",
       "      <td>8</td>\n",
       "      <td>[1, 7, 9, 10, 11, 12, 13, 14, 15, 16, 17, 19, ...</td>\n",
       "      <td>0.980000</td>\n",
       "    </tr>\n",
       "    <tr>\n",
       "      <th>9</th>\n",
       "      <td>10</td>\n",
       "      <td>[1, 7, 9, 11, 12, 13, 14, 15, 16, 17, 19, 20, ...</td>\n",
       "      <td>0.980000</td>\n",
       "    </tr>\n",
       "    <tr>\n",
       "      <th>10</th>\n",
       "      <td>11</td>\n",
       "      <td>[1, 7, 9, 12, 13, 14, 15, 16, 17, 19, 20, 22, ...</td>\n",
       "      <td>0.980000</td>\n",
       "    </tr>\n",
       "    <tr>\n",
       "      <th>11</th>\n",
       "      <td>12</td>\n",
       "      <td>[1, 7, 9, 13, 14, 15, 16, 17, 19, 20, 22, 23, ...</td>\n",
       "      <td>0.980000</td>\n",
       "    </tr>\n",
       "    <tr>\n",
       "      <th>12</th>\n",
       "      <td>9</td>\n",
       "      <td>[1, 7, 13, 14, 15, 16, 17, 19, 20, 22, 23, 24,...</td>\n",
       "      <td>0.980000</td>\n",
       "    </tr>\n",
       "    <tr>\n",
       "      <th>13</th>\n",
       "      <td>14</td>\n",
       "      <td>[1, 7, 13, 15, 16, 17, 19, 20, 22, 23, 24, 25,...</td>\n",
       "      <td>0.980000</td>\n",
       "    </tr>\n",
       "    <tr>\n",
       "      <th>14</th>\n",
       "      <td>16</td>\n",
       "      <td>[1, 7, 13, 15, 17, 19, 20, 22, 23, 24, 25, 26,...</td>\n",
       "      <td>0.980000</td>\n",
       "    </tr>\n",
       "    <tr>\n",
       "      <th>15</th>\n",
       "      <td>17</td>\n",
       "      <td>[1, 7, 13, 15, 19, 20, 22, 23, 24, 25, 26, 27,...</td>\n",
       "      <td>0.980000</td>\n",
       "    </tr>\n",
       "    <tr>\n",
       "      <th>16</th>\n",
       "      <td>13</td>\n",
       "      <td>[1, 7, 15, 19, 20, 22, 23, 24, 25, 26, 27, 28,...</td>\n",
       "      <td>0.980000</td>\n",
       "    </tr>\n",
       "    <tr>\n",
       "      <th>17</th>\n",
       "      <td>15</td>\n",
       "      <td>[1, 7, 19, 20, 22, 23, 24, 25, 26, 27, 28, 29]</td>\n",
       "      <td>0.980000</td>\n",
       "    </tr>\n",
       "    <tr>\n",
       "      <th>18</th>\n",
       "      <td>19</td>\n",
       "      <td>[1, 7, 20, 22, 23, 24, 25, 26, 27, 28, 29]</td>\n",
       "      <td>0.979936</td>\n",
       "    </tr>\n",
       "    <tr>\n",
       "      <th>19</th>\n",
       "      <td>22</td>\n",
       "      <td>[1, 7, 20, 23, 24, 25, 26, 27, 28, 29]</td>\n",
       "      <td>0.979936</td>\n",
       "    </tr>\n",
       "    <tr>\n",
       "      <th>20</th>\n",
       "      <td>7</td>\n",
       "      <td>[1, 20, 23, 24, 25, 26, 27, 28, 29]</td>\n",
       "      <td>0.980000</td>\n",
       "    </tr>\n",
       "    <tr>\n",
       "      <th>21</th>\n",
       "      <td>25</td>\n",
       "      <td>[1, 20, 23, 24, 26, 27, 28, 29]</td>\n",
       "      <td>0.977436</td>\n",
       "    </tr>\n",
       "    <tr>\n",
       "      <th>22</th>\n",
       "      <td>23</td>\n",
       "      <td>[1, 20, 24, 26, 27, 28, 29]</td>\n",
       "      <td>0.974936</td>\n",
       "    </tr>\n",
       "    <tr>\n",
       "      <th>23</th>\n",
       "      <td>28</td>\n",
       "      <td>[1, 20, 24, 26, 27, 29]</td>\n",
       "      <td>0.969936</td>\n",
       "    </tr>\n",
       "  </tbody>\n",
       "</table>\n",
       "</div>"
      ],
      "text/plain": [
       "    dropped                                           features     score\n",
       "0        18  [0, 1, 2, 3, 4, 5, 6, 7, 8, 9, 10, 11, 12, 13,...  0.977436\n",
       "1        21  [0, 1, 2, 3, 4, 5, 6, 7, 8, 9, 10, 11, 12, 13,...  0.977500\n",
       "2         5  [0, 1, 2, 3, 4, 6, 7, 8, 9, 10, 11, 12, 13, 14...  0.980000\n",
       "3         0  [1, 2, 3, 4, 6, 7, 8, 9, 10, 11, 12, 13, 14, 1...  0.980000\n",
       "4         2  [1, 3, 4, 6, 7, 8, 9, 10, 11, 12, 13, 14, 15, ...  0.980000\n",
       "5         3  [1, 4, 6, 7, 8, 9, 10, 11, 12, 13, 14, 15, 16,...  0.980000\n",
       "6         4  [1, 6, 7, 8, 9, 10, 11, 12, 13, 14, 15, 16, 17...  0.980000\n",
       "7         6  [1, 7, 8, 9, 10, 11, 12, 13, 14, 15, 16, 17, 1...  0.980000\n",
       "8         8  [1, 7, 9, 10, 11, 12, 13, 14, 15, 16, 17, 19, ...  0.980000\n",
       "9        10  [1, 7, 9, 11, 12, 13, 14, 15, 16, 17, 19, 20, ...  0.980000\n",
       "10       11  [1, 7, 9, 12, 13, 14, 15, 16, 17, 19, 20, 22, ...  0.980000\n",
       "11       12  [1, 7, 9, 13, 14, 15, 16, 17, 19, 20, 22, 23, ...  0.980000\n",
       "12        9  [1, 7, 13, 14, 15, 16, 17, 19, 20, 22, 23, 24,...  0.980000\n",
       "13       14  [1, 7, 13, 15, 16, 17, 19, 20, 22, 23, 24, 25,...  0.980000\n",
       "14       16  [1, 7, 13, 15, 17, 19, 20, 22, 23, 24, 25, 26,...  0.980000\n",
       "15       17  [1, 7, 13, 15, 19, 20, 22, 23, 24, 25, 26, 27,...  0.980000\n",
       "16       13  [1, 7, 15, 19, 20, 22, 23, 24, 25, 26, 27, 28,...  0.980000\n",
       "17       15     [1, 7, 19, 20, 22, 23, 24, 25, 26, 27, 28, 29]  0.980000\n",
       "18       19         [1, 7, 20, 22, 23, 24, 25, 26, 27, 28, 29]  0.979936\n",
       "19       22             [1, 7, 20, 23, 24, 25, 26, 27, 28, 29]  0.979936\n",
       "20        7                [1, 20, 23, 24, 25, 26, 27, 28, 29]  0.980000\n",
       "21       25                    [1, 20, 23, 24, 26, 27, 28, 29]  0.977436\n",
       "22       23                        [1, 20, 24, 26, 27, 28, 29]  0.974936\n",
       "23       28                            [1, 20, 24, 26, 27, 29]  0.969936"
      ]
     },
     "execution_count": 21,
     "metadata": {},
     "output_type": "execute_result"
    }
   ],
   "source": [
    "print(f\"final set of features: {S}\")\n",
    "print(f\"final set of features: {get_names(S)}\")\n",
    "print(f\"Achieved accuracy with that set: {best_achieved_score:.2%}\")\n",
    "print(f\"DataFrame of seature selection:\")\n",
    "pd.DataFrame(logs)"
   ]
  },
  {
   "cell_type": "markdown",
   "metadata": {},
   "source": [
    "- Obviously, I would take forward selection for this task, as it yields higher accuracy with less time to find required features.\n",
    "- As we can see from computations before, backward selection would be better accuracy-wise, if max_features was at least 13\n",
    "- this is a nice example of effect, described in the lecture, backward selection can process dependent features, while forward selection is ussually faster."
   ]
  }
 ],
 "metadata": {
  "kernelspec": {
   "display_name": "PA2_env",
   "language": "python",
   "name": "python3"
  },
  "language_info": {
   "codemirror_mode": {
    "name": "ipython",
    "version": 3
   },
   "file_extension": ".py",
   "mimetype": "text/x-python",
   "name": "python",
   "nbconvert_exporter": "python",
   "pygments_lexer": "ipython3",
   "version": "3.11.5"
  }
 },
 "nbformat": 4,
 "nbformat_minor": 2
}
